{
 "cells": [
  {
   "cell_type": "code",
   "execution_count": 1,
   "id": "3d3e2118",
   "metadata": {},
   "outputs": [],
   "source": [
    "import tagui as r\n",
    "import datetime as dt\n",
    "import numpy as np"
   ]
  },
  {
   "cell_type": "code",
   "execution_count": 2,
   "id": "f3f3c8d5",
   "metadata": {},
   "outputs": [],
   "source": [
    "# constants\n",
    "\n",
    "## sample website to launch\n",
    "website = r'https://www.linkedin.com/insights/report/talent/MjE4NTM5NnwxNDExMTgyNTd8MTE5NTgwMDk4fDc4MDg2MjF8SA==/overview'\n",
    "\n",
    "## combinations - location, skills, function\n",
    "LocationList = 'Singapore,China,India'.split(',')\n",
    "FunctionList = 'All,Finance,Information Technology,Human Resources'.split(',')\n",
    "SkillList = 'All,Aviation,Food & Beverage,Air Freight,Industrial Safety'.split(',')\n",
    "\n",
    "# # smaller subset for testing\n",
    "# LocationList = 'China'.split(',')\n",
    "# FunctionList = 'All,Finance,Information Technology'.split(',')\n",
    "# SkillList = 'All,Aviation,Food & Beverage,Air Freight'.split(',')\n",
    "\n",
    "\n",
    "## containers\n",
    "main_list = []\n",
    "temp_list = []\n",
    "error_group = []\n",
    "\n",
    "## today\n",
    "today = dt.date.today().strftime(\"%Y-%m-%d\")\n"
   ]
  },
  {
   "cell_type": "markdown",
   "id": "faf257b5",
   "metadata": {},
   "source": [
    "#### Helper Functions\n",
    "-----------------------------\n"
   ]
  },
  {
   "cell_type": "code",
   "execution_count": 3,
   "id": "e475e221",
   "metadata": {},
   "outputs": [],
   "source": [
    "def expand_search_filter():\n",
    "    # Click expand filter\n",
    "    r.click('Search filters expand')\n"
   ]
  },
  {
   "cell_type": "code",
   "execution_count": 4,
   "id": "a099a8ac",
   "metadata": {},
   "outputs": [],
   "source": [
    "def clear_filters():\n",
    "    \n",
    "    r.wait(2)\n",
    "        \n",
    "    # Clear location filter\n",
    "    c1 = '//*[contains(@aria-label, \"Clear Location facet list\")]'\n",
    "    if r.exist(c1):\n",
    "        r.click(c1)\n",
    "\n",
    "    # Clear Skill filter\n",
    "    c2 = '//*[contains(@aria-label, \"Clear Skill facet list\")]'\n",
    "    if r.exist(c2):\n",
    "        r.click(c2)\n",
    "\n",
    "    # Clear Function filter\n",
    "    c3 = '//*[contains(@aria-label, \"Clear Function facet list\")]'\n",
    "    if r.exist(c3):\n",
    "        r.click(c3)\n",
    "\n"
   ]
  },
  {
   "cell_type": "code",
   "execution_count": 5,
   "id": "4c3df060",
   "metadata": {},
   "outputs": [],
   "source": [
    "def apply_filter(loc, skill, func, wait=1):\n",
    "    if func.upper() != \"ALL\":\n",
    "        # Apply filter - Function\n",
    "        r.click('//*[contains(@aria-label, \"Add Function filter\")]')\n",
    "        r.wait(wait)\n",
    "        \n",
    "        r.type('//*[contains(@data-query-type, \"FUNCTION\")]//*[contains(@for, \"artdeco-pill__input\")]', func)\n",
    "        r.wait(wait)\n",
    "        \n",
    "        r.click('//*[@class=\"typeahead-results\"]/div/li[1]')\n",
    "        r.wait(wait)\n",
    "    \n",
    "    if skill.upper() != \"ALL\":\n",
    "        # Apply filter - Skill\n",
    "        r.click('//*[contains(@aria-label, \"Add Skill filter\")]')\n",
    "        r.wait(wait)\n",
    "        \n",
    "        r.type('//*[contains(@data-query-type, \"SKILL\")]//*[contains(@for, \"artdeco-pill__input\")]', skill)\n",
    "        r.wait(wait)\n",
    "        \n",
    "        r.click('//*[@class=\"typeahead-results\"]/div/li[1]')\n",
    "        r.wait(wait)\n",
    "    \n",
    "    if loc.upper() != \"ALL\":\n",
    "        # Apply filter - Location\n",
    "        r.click('//*[contains(@aria-label, \"Add Location filter\")]')\n",
    "        r.wait(wait)\n",
    "        \n",
    "        r.type('//*[contains(@data-query-type, \"LOCATION\")]//*[contains(@for, \"artdeco-pill__input\")]', loc)\n",
    "        r.wait(wait)\n",
    "        \n",
    "        r.click('//*[@class=\"typeahead-results\"]/div/li[1]')\n",
    "        r.wait(wait)\n",
    "\n",
    "        \n",
    "    # Click on the Apply button\n",
    "    r.click(\"Apply\")\n",
    "    r.wait(wait)\n",
    "    \n",
    "    # Close the filter panel if it is still on after clicking Apply button\n",
    "    if r.exist('/html/body/div[3]/div[8]/div[1]/div/div/div/div/div/search-filters-panel-content/div[1]/header/button/li-icon/svg'):\n",
    "        r.click('/html/body/div[3]/div[8]/div[1]/div/div/div/div/div/search-filters-panel-content/div[1]/header/button/li-icon/svg')\n"
   ]
  },
  {
   "cell_type": "code",
   "execution_count": 6,
   "id": "798a4b01",
   "metadata": {},
   "outputs": [],
   "source": [
    "def extract_data():\n",
    "    # Extract data\n",
    "    \n",
    "    check_label = r.read('/html/body/div[3]/div[8]/div[1]/section/header/div[1]/section').split('\\n')\n",
    "    check_label = '|'.join([i.strip() for i in check_label if i[-1] != ' '])\n",
    "    \n",
    "    \n",
    "    if r.exist('/html/body/div[3]/div[8]/div[1]/section/div[1]/main/div/div/ul/li[1]/span[1]/button/div[1]'):\n",
    "        professionals = r.read('/html/body/div[3]/div[8]/div[1]/section/div[1]/main/div/div/ul/li[1]/span[1]/button/div[1]')\n",
    "        changed_jobs = r.read('/html/body/div[3]/div[8]/div[1]/section/div[1]/main/div/div/ul/li[2]/span/button/div[1]')\n",
    "        job_posts = r.read('/html/body/div[3]/div[8]/div[1]/section/div[1]/main/div/div/ul/li[3]/span/button/div[1]')\n",
    "        engaged_talent = r.read('/html/body/div[3]/div[8]/div[1]/section/div[1]/main/div/div/ul/li[4]/span/button/div[1]')\n",
    "    else:\n",
    "        professionals = ''\n",
    "        changed_jobs = ''\n",
    "        job_posts = ''\n",
    "        engaged_talent = ''\n",
    "            \n",
    "    \n",
    "    if r.exist('/html/body/div[3]/div[8]/div[1]/section/div[1]/main/div/div/section[5]/div[2]/div/div[2]/dl/dd[2]/span/strong'):\n",
    "        view_to_apply_rate = r.read('/html/body/div[3]/div[8]/div[1]/section/div[1]/main/div/div/section[5]/div[2]/div/div[2]/dl/dd[2]/span/strong')\n",
    "    else:\n",
    "        view_to_apply_rate = '-'\n",
    "    \n",
    "    if r.exist('/html/body/div[3]/div[8]/div[1]/section/div[1]/main/div/div/section[5]/div[2]/div/div[2]/dl/dd[3]/span/strong'):\n",
    "        inmail_response_rate = r.read('/html/body/div[3]/div[8]/div[1]/section/div[1]/main/div/div/section[5]/div[2]/div/div[2]/dl/dd[3]/span/strong')\n",
    "    else:\n",
    "        inmail_response_rate = '-'\n",
    "    \n",
    "    # Remove thousandths comma\n",
    "    professionals = professionals.replace(',', '')\n",
    "    changed_jobs = changed_jobs.replace(',', '')\n",
    "    job_posts = job_posts.replace(',', '')\n",
    "    engaged_talent = engaged_talent.replace(',', '')\n",
    "        \n",
    "    return professionals, changed_jobs, job_posts, engaged_talent, view_to_apply_rate, inmail_response_rate, check_label.strip()"
   ]
  },
  {
   "cell_type": "code",
   "execution_count": 7,
   "id": "bbe392c8",
   "metadata": {},
   "outputs": [],
   "source": [
    "def error_check(data_from_web, loc, skill, func, counter):\n",
    "    # error checks\n",
    "    error_flag = 0\n",
    "\n",
    "    # label checks\n",
    "    label1 = '|'.join([i.lower() for i in [loc, skill, func] if i.upper() != \"ALL\"])\n",
    "\n",
    "    if label1 != data_from_web[-1].lower():\n",
    "        print(f'{counter} **Mismatch** {loc}-{skill}-{func}.')\n",
    "        error_flag = 1\n",
    "\n",
    "    # empty checks\n",
    "    test_data = [0 if i != '' else 1 for i in data_from_web]\n",
    "\n",
    "    if sum(test_data) > 0:\n",
    "        print(f'{counter} **Missing Data** {loc}-{skill}-{func}.')\n",
    "        error_flag = 1\n",
    "        \n",
    "    return error_flag"
   ]
  },
  {
   "cell_type": "code",
   "execution_count": 8,
   "id": "473bc1e1",
   "metadata": {},
   "outputs": [],
   "source": [
    "def get_data_by_location(loc_list, skill_list, function_list):\n",
    "    subgroup = []\n",
    "    error_group = []\n",
    "    counter = 1\n",
    "    \n",
    "    for loc in loc_list:\n",
    "        for skill in skill_list:\n",
    "            for func in function_list:\n",
    "\n",
    "                expand_search_filter()\n",
    "                clear_filters()\n",
    "                apply_filter(loc, skill, func)\n",
    "\n",
    "                if r.exist('//*[contains(@aria-label, \"Dismiss\")]'):\n",
    "                    r.click('//*[contains(@aria-label, \"Dismiss\")]')\n",
    "\n",
    "                data_from_web = extract_data()\n",
    "\n",
    "                # error checks\n",
    "                error_flag =  error_check(data_from_web, loc, skill, func, counter)\n",
    "                \n",
    "                if error_flag == 1:\n",
    "                    error_group.append((loc, skill, func))\n",
    "                else:\n",
    "                    subgroup.append([loc, skill, func] + [i for i in data_from_web])\n",
    "                    print(counter, subgroup[-1])\n",
    "\n",
    "                counter+=1\n",
    "\n",
    "            \n",
    "    print(\"** End **\")\n",
    "    \n",
    "    return subgroup, error_group\n",
    "    "
   ]
  },
  {
   "cell_type": "code",
   "execution_count": 9,
   "id": "047ef4de",
   "metadata": {},
   "outputs": [],
   "source": [
    "def rectify_process(all_errors, rectified = []):\n",
    "    counter = 0\n",
    "    start_with = len(all_errors)\n",
    "    \n",
    "    for i in all_errors:\n",
    "        loc, skill, func = i\n",
    "        data1, error1 = get_data_by_location([loc], [skill], [func])\n",
    "        \n",
    "        all_errors = all_errors[1:]\n",
    "        \n",
    "        if len(data1) > 0:\n",
    "            rectified.append(data1[0])\n",
    "        else:\n",
    "            all_errors.append((loc, skill, func))\n",
    "        \n",
    "        counter += 1\n",
    "        if counter >= 2*start_with + 3:\n",
    "            print_status(\"** PERSISTENT ERROR ** \")\n",
    "            print(all_errors)\n",
    "            r.telegram(975703526, f'Persistent Error: {all_errors}')\n",
    "            break\n",
    "    \n",
    "    return rectified"
   ]
  },
  {
   "cell_type": "code",
   "execution_count": 10,
   "id": "008e6d89",
   "metadata": {},
   "outputs": [],
   "source": [
    "# Print status\n",
    "def print_status(msg):\n",
    "    dtt = dt.datetime.today().strftime('%Y-%m-%d %H:%M')\n",
    "    print(f'[{dtt}]: {msg}')"
   ]
  },
  {
   "cell_type": "markdown",
   "id": "b3e090af",
   "metadata": {},
   "source": [
    "#### Operation\n",
    "--------------------------\n"
   ]
  },
  {
   "cell_type": "code",
   "execution_count": 11,
   "id": "1fd74121",
   "metadata": {},
   "outputs": [
    {
     "name": "stdout",
     "output_type": "stream",
     "text": [
      "[2022-02-02 11:51]: ** Begin First Run **\n"
     ]
    }
   ],
   "source": [
    "print_status('** Begin First Run **')"
   ]
  },
  {
   "cell_type": "code",
   "execution_count": 12,
   "id": "49175c66",
   "metadata": {},
   "outputs": [
    {
     "data": {
      "text/plain": [
       "True"
      ]
     },
     "execution_count": 12,
     "metadata": {},
     "output_type": "execute_result"
    }
   ],
   "source": [
    "\n",
    "r.init(turbo_mode = True)"
   ]
  },
  {
   "cell_type": "code",
   "execution_count": 13,
   "id": "e3035f01",
   "metadata": {},
   "outputs": [
    {
     "data": {
      "text/plain": [
       "True"
      ]
     },
     "execution_count": 13,
     "metadata": {},
     "output_type": "execute_result"
    }
   ],
   "source": [
    "r.url(website)"
   ]
  },
  {
   "cell_type": "code",
   "execution_count": 14,
   "id": "524ff5b9",
   "metadata": {},
   "outputs": [
    {
     "name": "stdout",
     "output_type": "stream",
     "text": [
      "1 ['Singapore', 'All', 'All', '2235124', '179959', '119067', '84004', '17%', '33%', 'Singapore']\n",
      "2 ['Singapore', 'All', 'Finance', '89752', '10074', '5499', '4871', '19%', '48%', 'Singapore|Finance']\n",
      "3 ['Singapore', 'All', 'Information Technology', '96486', '11022', '10321', '5162', '17%', '31%', 'Singapore|Information Technology']\n",
      "4 ['Singapore', 'All', 'Human Resources', '51855', '8143', '4716', '3692', '19%', '33%', 'Singapore|Human Resources']\n",
      "5 ['Singapore', 'Aviation', 'All', '22619', '2938', '231', '4390', '16%', '55%', 'Singapore|Aviation']\n",
      "6 ['Singapore', 'Aviation', 'Finance', '776', '134', '1', '134', '20%', '100%', 'Singapore|Aviation|Finance']\n",
      "7 ['Singapore', 'Aviation', 'Information Technology', '835', '151', '--', '185', '12%', '100%', 'Singapore|Aviation|Information Technology']\n",
      "8 ['Singapore', 'Aviation', 'Human Resources', '551', '118', '2', '141', '18%', '—', 'Singapore|Aviation|Human Resources']\n",
      "9 ['Singapore', 'Food & Beverage', 'All', '44328', '6819', '4356', '5595', '21%', '50%', 'Singapore|Food & Beverage']\n",
      "10 ['Singapore', 'Food & Beverage', 'Finance', '1377', '272', '41', '182', '29%', '—', 'Singapore|Food & Beverage|Finance']\n",
      "11 ['Singapore', 'Food & Beverage', 'Information Technology', '980', '194', '10', '107', '21%', '50%', 'Singapore|Food & Beverage|Information Technology']\n",
      "12 ['Singapore', 'Food & Beverage', 'Human Resources', '1159', '347', '16', '184', '25%', '33%', 'Singapore|Food & Beverage|Human Resources']\n",
      "13 ['Singapore', 'Air Freight', 'All', '3598', '352', '157', '631', '16%', '55%', 'Singapore|Air Freight']\n",
      "14 ['Singapore', 'Air Freight', 'Finance', '49', '5', '1', '6', '0%', '—', 'Singapore|Air Freight|Finance']\n",
      "15 ['Singapore', 'Air Freight', 'Information Technology', '95', '10', '--', '26', '17%', '100%', 'Singapore|Air Freight|Information Technology']\n",
      "16 ['Singapore', 'Air Freight', 'Human Resources', '31', '3', '--', '3', '0%', '—', 'Singapore|Air Freight|Human Resources']\n",
      "17 **Mismatch** Singapore-Industrial Safety-All.\n",
      "[RPA][ERROR] - cannot find Search filters expand\n",
      "18 ['Singapore', 'Industrial Safety', 'Finance', '14', '4', '--', '3', '-', '-', 'Singapore|Industrial Safety|Finance']\n",
      "19 ['Singapore', 'Industrial Safety', 'Information Technology', '53', '8', '6', '5', '11%', '—', 'Singapore|Industrial Safety|Information Technology']\n",
      "20 ['Singapore', 'Industrial Safety', 'Human Resources', '23', '2', '--', '--', '-', '-', 'Singapore|Industrial Safety|Human Resources']\n",
      "21 ['China', 'All', 'All', '38665714', '704941', '729245', '1162', '27%', '24%', 'China']\n",
      "22 ['China', 'All', 'Finance', '705570', '21860', '24080', '52', '14%', '—', 'China|Finance']\n",
      "23 ['China', 'All', 'Information Technology', '1179633', '26549', '38967', '40', '24%', '—', 'China|Information Technology']\n",
      "24 ['China', 'All', 'Human Resources', '784630', '42123', '22339', '47', '22%', '23%', 'China|Human Resources']\n",
      "25 ['China', 'Aviation', 'All', '31677', '1324', '749', '66', '21%', '—', 'China|Aviation']\n",
      "26 ['China', 'Aviation', 'Finance', '693', '52', '--', '1', '—', '—', 'China|Aviation|Finance']\n",
      "27 ['China', 'Aviation', 'Information Technology', '1424', '48', '1', '--', '—', '—', 'China|Aviation|Information Technology']\n",
      "28 ['China', 'Aviation', 'Human Resources', '716', '51', '--', '1', '—', '—', 'China|Aviation|Human Resources']\n",
      "29 ['China', 'Food & Beverage', 'All', '100217', '3467', '6181', '114', '27%', '—', 'China|Food & Beverage']\n",
      "30 ['China', 'Food & Beverage', 'Finance', '1104', '85', '95', '2', '0%', '—', 'China|Food & Beverage|Finance']\n",
      "31 ['China', 'Food & Beverage', 'Information Technology', '930', '55', '34', '--', '—', '—', 'China|Food & Beverage|Information Technology']\n",
      "32 ['China', 'Food & Beverage', 'Human Resources', '1829', '152', '21', '1', '—', '—', 'China|Food & Beverage|Human Resources']\n",
      "33 ['China', 'Air Freight', 'All', '6389', '291', '103', '17', '30%', '—', 'China|Air Freight']\n",
      "34 ['China', 'Air Freight', 'Finance', '37', '5', '1', '--', '—', '—', 'China|Air Freight|Finance']\n",
      "35 ['China', 'Air Freight', 'Information Technology', '56', '5', '2', '--', '—', '—', 'China|Air Freight|Information Technology']\n",
      "36 **Mismatch** China-Air Freight-Human Resources.\n",
      "[RPA][ERROR] - cannot find Search filters expand\n",
      "37 ['China', 'Industrial Safety', 'All', '1622', '69', '120', '2', '50%', '—', 'China|Industrial Safety']\n",
      "38 ['China', 'Industrial Safety', 'Finance', '11', '1', '--', '--', '-', '-', 'China|Industrial Safety|Finance']\n",
      "39 ['China', 'Industrial Safety', 'Information Technology', '32', '--', '9', '1', '0%', '—', 'China|Industrial Safety|Information Technology']\n",
      "40 ['China', 'Industrial Safety', 'Human Resources', '9', '--', '--', '--', '-', '-', 'China|Industrial Safety|Human Resources']\n",
      "41 ['India', 'All', 'All', '56176792', '4279534', '462268', '41130', '43%', '61%', 'India']\n",
      "42 ['India', 'All', 'Finance', '923255', '122340', '11585', '2177', '47%', '0%', 'India|Finance']\n",
      "43 ['India', 'All', 'Information Technology', '2622092', '352435', '51191', '2442', '44%', '70%', 'India|Information Technology']\n",
      "44 ['India', 'All', 'Human Resources', '1077302', '191405', '15824', '1361', '58%', '—', 'India|Human Resources']\n",
      "45 ['India', 'Aviation', 'All', '119086', '13342', '249', '2292', '39%', '100%', 'India|Aviation']\n",
      "46 ['India', 'Aviation', 'Finance', '1648', '276', '5', '39', '46%', '—', 'India|Aviation|Finance']\n",
      "47 ['India', 'Aviation', 'Information Technology', '4439', '775', '--', '90', '28%', '100%', 'India|Aviation|Information Technology']\n",
      "48 **Mismatch** India-Aviation-Human Resources.\n",
      "[RPA][ERROR] - cannot find Search filters expand\n",
      "49 **Mismatch** India-Food & Beverage-All.\n",
      "[RPA][ERROR] - cannot find Search filters expand\n",
      "50 **Mismatch** India-Food & Beverage-Finance.\n",
      "[RPA][ERROR] - cannot find Search filters expand\n",
      "51 **Mismatch** India-Food & Beverage-Information Technology.\n",
      "[RPA][ERROR] - cannot find Search filters expand\n",
      "52 **Mismatch** India-Food & Beverage-Human Resources.\n",
      "[RPA][ERROR] - cannot find Search filters expand\n",
      "53 **Mismatch** India-Air Freight-All.\n",
      "[RPA][ERROR] - cannot find Search filters expand\n",
      "54 **Mismatch** India-Air Freight-Finance.\n",
      "[RPA][ERROR] - cannot find Search filters expand\n",
      "55 **Mismatch** India-Air Freight-Information Technology.\n",
      "[RPA][ERROR] - cannot find Search filters expand\n",
      "56 **Mismatch** India-Air Freight-Human Resources.\n",
      "[RPA][ERROR] - cannot find Search filters expand\n",
      "57 **Mismatch** India-Industrial Safety-All.\n",
      "[RPA][ERROR] - cannot find Search filters expand\n",
      "58 **Mismatch** India-Industrial Safety-Finance.\n",
      "[RPA][ERROR] - cannot find Search filters expand\n",
      "59 **Mismatch** India-Industrial Safety-Information Technology.\n",
      "[RPA][ERROR] - cannot find Search filters expand\n",
      "60 **Mismatch** India-Industrial Safety-Human Resources.\n",
      "** End **\n"
     ]
    }
   ],
   "source": [
    "main_list, all_errors = get_data_by_location(LocationList, SkillList, FunctionList)"
   ]
  },
  {
   "cell_type": "code",
   "execution_count": 15,
   "id": "797344ce",
   "metadata": {},
   "outputs": [
    {
     "data": {
      "text/plain": [
       "[('Singapore', 'Industrial Safety', 'All'),\n",
       " ('China', 'Air Freight', 'Human Resources'),\n",
       " ('India', 'Aviation', 'Human Resources'),\n",
       " ('India', 'Food & Beverage', 'All'),\n",
       " ('India', 'Food & Beverage', 'Finance'),\n",
       " ('India', 'Food & Beverage', 'Information Technology'),\n",
       " ('India', 'Food & Beverage', 'Human Resources'),\n",
       " ('India', 'Air Freight', 'All'),\n",
       " ('India', 'Air Freight', 'Finance'),\n",
       " ('India', 'Air Freight', 'Information Technology'),\n",
       " ('India', 'Air Freight', 'Human Resources'),\n",
       " ('India', 'Industrial Safety', 'All'),\n",
       " ('India', 'Industrial Safety', 'Finance'),\n",
       " ('India', 'Industrial Safety', 'Information Technology'),\n",
       " ('India', 'Industrial Safety', 'Human Resources')]"
      ]
     },
     "execution_count": 15,
     "metadata": {},
     "output_type": "execute_result"
    }
   ],
   "source": [
    "all_errors"
   ]
  },
  {
   "cell_type": "markdown",
   "id": "3743717f",
   "metadata": {},
   "source": [
    "#### Rectify\n",
    "--------------"
   ]
  },
  {
   "cell_type": "code",
   "execution_count": 19,
   "id": "c776fbaf",
   "metadata": {},
   "outputs": [
    {
     "name": "stdout",
     "output_type": "stream",
     "text": [
      "[2022-02-02 15:31]: ** Begin Second Run **\n",
      "1 ['Singapore', 'Industrial Safety', 'All', '2096', '221', '79', '330', '26%', '50%', 'Singapore|Industrial Safety']\n",
      "** End **\n",
      "1 ['China', 'Air Freight', 'Human Resources', '32', '1', '--', '--', '—', '—', 'China|Air Freight|Human Resources']\n",
      "** End **\n",
      "1 ['India', 'Aviation', 'Human Resources', '3274', '738', '2', '70', '35%', '—', 'India|Aviation|Human Resources']\n",
      "** End **\n",
      "1 ['India', 'Food & Beverage', 'All', '190603', '26462', '2071', '2721', '51%', '—', 'India|Food & Beverage']\n",
      "** End **\n",
      "1 ['India', 'Food & Beverage', 'Finance', '1776', '325', '24', '27', '60%', '—', 'India|Food & Beverage|Finance']\n",
      "** End **\n",
      "1 ['India', 'Food & Beverage', 'Information Technology', '3363', '595', '3', '33', '51%', '—', 'India|Food & Beverage|Information Technology']\n",
      "** End **\n",
      "1 ['India', 'Food & Beverage', 'Human Resources', '3620', '1052', '2', '40', '75%', '—', 'India|Food & Beverage|Human Resources']\n",
      "** End **\n",
      "1 ['India', 'Air Freight', 'All', '11141', '1063', '81', '204', '54%', '50%', 'India|Air Freight']\n",
      "** End **\n",
      "1 ['India', 'Air Freight', 'Finance', '157', '19', '1', '3', '50%', '—', 'India|Air Freight|Finance']\n",
      "** End **\n",
      "1 ['India', 'Air Freight', 'Information Technology', '187', '29', '10', '4', '0%', '100%', 'India|Air Freight|Information Technology']\n",
      "** End **\n",
      "1 ['India', 'Air Freight', 'Human Resources', '67', '9', '--', '2', '—', '—', 'India|Air Freight|Human Resources']\n",
      "** End **\n",
      "1 ['India', 'Industrial Safety', 'All', '28066', '3989', '278', '288', '49%', '—', 'India|Industrial Safety']\n",
      "** End **\n",
      "1 ['India', 'Industrial Safety', 'Finance', '87', '16', '1', '--', '—', '—', 'India|Industrial Safety|Finance']\n",
      "** End **\n",
      "1 ['India', 'Industrial Safety', 'Information Technology', '404', '77', '14', '5', '33%', '—', 'India|Industrial Safety|Information Technology']\n",
      "** End **\n",
      "1 ['India', 'Industrial Safety', 'Human Resources', '395', '77', '--', '2', '100%', '—', 'India|Industrial Safety|Human Resources']\n",
      "** End **\n"
     ]
    }
   ],
   "source": [
    "if len(all_errors) > 0:\n",
    "    print_status('** Begin Second Run **')\n",
    "\n",
    "    r.url(website)\n",
    "\n",
    "    rectified = rectify_process(all_errors)\n",
    "else:\n",
    "    rectified = []"
   ]
  },
  {
   "cell_type": "code",
   "execution_count": null,
   "id": "f7159c91",
   "metadata": {},
   "outputs": [],
   "source": []
  },
  {
   "cell_type": "markdown",
   "id": "e68ee6bb",
   "metadata": {},
   "source": [
    "#### Save As CSV\n",
    "-------------------------\n"
   ]
  },
  {
   "cell_type": "code",
   "execution_count": 17,
   "id": "0bc35c71",
   "metadata": {},
   "outputs": [],
   "source": [
    "Save_Folder = r'C:\\Users\\cheehuat_huang\\OneDrive - SATS Ltd\\Analytics Share Folder\\LinkedIn Talent Insights\\Data'"
   ]
  },
  {
   "cell_type": "code",
   "execution_count": 20,
   "id": "54bb5813",
   "metadata": {},
   "outputs": [],
   "source": [
    "main_list = main_list + rectified if len(rectified) > 0 else main_list"
   ]
  },
  {
   "cell_type": "code",
   "execution_count": 21,
   "id": "f7db7ab6",
   "metadata": {},
   "outputs": [],
   "source": [
    "with open(f'XLTI_{today}.csv', 'w') as f:\n",
    "    for i in main_list:\n",
    "        i = [str(j) for j in i]\n",
    "        f.write(','.join(i))\n",
    "        f.write('\\n')"
   ]
  },
  {
   "cell_type": "code",
   "execution_count": null,
   "id": "aa6e6b11",
   "metadata": {},
   "outputs": [],
   "source": [
    "r.close()"
   ]
  },
  {
   "cell_type": "code",
   "execution_count": null,
   "id": "f70bcc6d",
   "metadata": {},
   "outputs": [],
   "source": [
    "print_status(\"** Completed **\")"
   ]
  },
  {
   "cell_type": "code",
   "execution_count": null,
   "id": "db24c9d2",
   "metadata": {},
   "outputs": [],
   "source": []
  }
 ],
 "metadata": {
  "kernelspec": {
   "display_name": "Python 3 (ipykernel)",
   "language": "python",
   "name": "python3"
  },
  "language_info": {
   "codemirror_mode": {
    "name": "ipython",
    "version": 3
   },
   "file_extension": ".py",
   "mimetype": "text/x-python",
   "name": "python",
   "nbconvert_exporter": "python",
   "pygments_lexer": "ipython3",
   "version": "3.9.7"
  }
 },
 "nbformat": 4,
 "nbformat_minor": 5
}
